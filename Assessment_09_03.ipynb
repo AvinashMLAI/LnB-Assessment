{
  "nbformat": 4,
  "nbformat_minor": 0,
  "metadata": {
    "colab": {
      "provenance": []
    },
    "kernelspec": {
      "name": "python3",
      "display_name": "Python 3"
    },
    "language_info": {
      "name": "python"
    }
  },
  "cells": [
    {
      "cell_type": "markdown",
      "source": [
        "**Question 1**"
      ],
      "metadata": {
        "id": "-eYHs0x0vn2G"
      }
    },
    {
      "cell_type": "code",
      "execution_count": 1,
      "metadata": {
        "colab": {
          "base_uri": "https://localhost:8080/"
        },
        "id": "P-zHbfEMvemw",
        "outputId": "e874c378-e7c6-48f7-e2f4-aca7f67c8459"
      },
      "outputs": [
        {
          "output_type": "stream",
          "name": "stdout",
          "text": [
            "-----------------------------------------------------\n",
            "                      Wave Theater\n",
            "                 Snack Bar - Break Time Bill\n",
            "-----------------------------------------------------\n",
            "Item             |   Quantity   |   Price   |   Total\n",
            "-----------------------------------------------------\n",
            "Pizza            |       2       |   Rs.100   |   Rs.200\n",
            "Puffs            |       3       |    Rs.20   |    Rs.60\n",
            "Cool Drinks      |       4       |    Rs.10   |    Rs.40\n",
            "-----------------------------------------------------\n",
            "Total Bill:                                Rs.300\n",
            "-----------------------------------------------------\n"
          ]
        }
      ],
      "source": [
        "# Item prices\n",
        "pizza_price = 100\n",
        "puffs_price = 20\n",
        "cooldrink_price = 10\n",
        "\n",
        "# Quantities bought by Vohra\n",
        "pizza_quantity = 2\n",
        "puffs_quantity = 3\n",
        "cooldrink_quantity = 4\n",
        "\n",
        "# Calculate total cost for each item\n",
        "pizza_total = pizza_quantity * pizza_price\n",
        "puffs_total = puffs_quantity * puffs_price\n",
        "cooldrink_total = cooldrink_quantity * cooldrink_price\n",
        "\n",
        "# Calculate the overall total\n",
        "total_bill = pizza_total + puffs_total + cooldrink_total\n",
        "\n",
        "# Display the bill\n",
        "print(\"-----------------------------------------------------\")\n",
        "print(\"                      Wave Theater\")\n",
        "print(\"                 Snack Bar - Break Time Bill\")\n",
        "print(\"-----------------------------------------------------\")\n",
        "print(\"Item             |   Quantity   |   Price   |   Total\")\n",
        "print(\"-----------------------------------------------------\")\n",
        "print(f\"Pizza            |       {pizza_quantity}       |   Rs.{pizza_price}   |   Rs.{pizza_total}\")\n",
        "print(f\"Puffs            |       {puffs_quantity}       |    Rs.{puffs_price}   |    Rs.{puffs_total}\")\n",
        "print(f\"Cool Drinks      |       {cooldrink_quantity}       |    Rs.{cooldrink_price}   |    Rs.{cooldrink_total}\")\n",
        "print(\"-----------------------------------------------------\")\n",
        "print(f\"Total Bill:                                Rs.{total_bill}\")\n",
        "print(\"-----------------------------------------------------\")\n"
      ]
    },
    {
      "cell_type": "markdown",
      "source": [
        "**Question 2**"
      ],
      "metadata": {
        "id": "DMpKZ44Fvmr0"
      }
    },
    {
      "cell_type": "code",
      "source": [
        "# Get user input\n",
        "total_stairs = int(input(\"Enter the number of stairs: \"))\n",
        "stairs_per_step = int(input(\"Enter the number of stairs covered in each step: \"))\n",
        "\n",
        "# Calculate the total steps taken\n",
        "total_steps = (total_stairs + stairs_per_step - 1) // stairs_per_step\n",
        "\n",
        "# Display the result\n",
        "print(f\"Total steps taken: {total_steps}\")\n"
      ],
      "metadata": {
        "colab": {
          "base_uri": "https://localhost:8080/"
        },
        "id": "KgjN1ny3wQAe",
        "outputId": "d967ab10-77b9-489c-92c9-be7c0a1bae89"
      },
      "execution_count": 2,
      "outputs": [
        {
          "output_type": "stream",
          "name": "stdout",
          "text": [
            "Enter the number of stairs: 13\n",
            "Enter the number of stairs covered in each step: 2\n",
            "Total steps taken: 7\n"
          ]
        }
      ]
    },
    {
      "cell_type": "markdown",
      "source": [
        "**Question 3**"
      ],
      "metadata": {
        "id": "tmDuQJSAxqmE"
      }
    },
    {
      "cell_type": "code",
      "source": [],
      "metadata": {
        "id": "o2ME42bmwdsf"
      },
      "execution_count": null,
      "outputs": []
    },
    {
      "cell_type": "markdown",
      "source": [
        "**Question 4**"
      ],
      "metadata": {
        "id": "-8DpUnJqxuJV"
      }
    },
    {
      "cell_type": "code",
      "source": [],
      "metadata": {
        "id": "vG8vS5D8xwLk"
      },
      "execution_count": null,
      "outputs": []
    },
    {
      "cell_type": "markdown",
      "source": [
        "**Question 5**"
      ],
      "metadata": {
        "id": "MtNQ8l_Hxxfh"
      }
    },
    {
      "cell_type": "code",
      "source": [],
      "metadata": {
        "id": "RJaOZ6VLx1hB"
      },
      "execution_count": null,
      "outputs": []
    },
    {
      "cell_type": "markdown",
      "source": [
        "**Question 6**"
      ],
      "metadata": {
        "id": "0_D7DP9lx2HE"
      }
    },
    {
      "cell_type": "code",
      "source": [
        "def main():\n",
        "    # Input the size of the matrix\n",
        "    size = int(input(\"Enter the size of the array: \"))\n",
        "\n",
        "    # Input elements of the matrix\n",
        "    matrix = [int(input(f\"Enter the element at the {i}th index: \")) for i in range(size)]\n",
        "\n",
        "    # Divide the matrix into even and odd submatrices\n",
        "    even_matrix = [matrix[i] for i in range(0, size, 2)]\n",
        "    odd_matrix = [matrix[i] for i in range(1, size, 2)]\n",
        "\n",
        "    # Sort both submatrices in ascending order\n",
        "    even_matrix.sort()\n",
        "    odd_matrix.sort()\n",
        "\n",
        "    # Display the sorted submatrices\n",
        "    print(\"After sorting:\")\n",
        "    print(f\"Sorted even array: {even_matrix}\")\n",
        "    print(f\"Sorted odd array: {odd_matrix}\")\n",
        "\n",
        "    # Calculate and print the sum of the second largest numbers from both matrices\n",
        "    sum_second_largest = even_matrix[-2] + odd_matrix[-2]\n",
        "    print(f\"The sum of the second largest numbers from both matrices is: {sum_second_largest}\")\n",
        "\n",
        "if __name__ == \"__main__\":\n",
        "    main()\n"
      ],
      "metadata": {
        "colab": {
          "base_uri": "https://localhost:8080/"
        },
        "id": "eFIKdUPdx4Yq",
        "outputId": "c53595dd-9991-4e3e-a9de-ca05a6eb8cf5"
      },
      "execution_count": 8,
      "outputs": [
        {
          "output_type": "stream",
          "name": "stdout",
          "text": [
            "Enter the size of the array: 5\n",
            "Enter the element at the 0th index: 3\n",
            "Enter the element at the 1th index: 4\n",
            "Enter the element at the 2th index: 1\n",
            "Enter the element at the 3th index: 7\n",
            "Enter the element at the 4th index: 9\n",
            "After sorting:\n",
            "Sorted even array: [1, 3, 9]\n",
            "Sorted odd array: [4, 7]\n",
            "The sum of the second largest numbers from both matrices is: 7\n"
          ]
        }
      ]
    },
    {
      "cell_type": "markdown",
      "source": [
        "**Question 7**"
      ],
      "metadata": {
        "id": "PswMILVWx5mG"
      }
    },
    {
      "cell_type": "code",
      "source": [],
      "metadata": {
        "id": "Xqjq2-xrx8VM"
      },
      "execution_count": null,
      "outputs": []
    },
    {
      "cell_type": "markdown",
      "source": [
        "**Question 8**"
      ],
      "metadata": {
        "id": "jM3ONImex8w1"
      }
    },
    {
      "cell_type": "code",
      "source": [
        "def find_leaders(arr):\n",
        "    n = len(arr)\n",
        "    leaders = []\n",
        "\n",
        "\n",
        "    max_right = float('-inf')\n",
        "\n",
        "    for i in range(n - 1, -1, -1):\n",
        "        if arr[i] > max_right:\n",
        "            leaders.append(arr[i])\n",
        "            max_right = arr[i]\n",
        "\n",
        "    leaders.reverse()\n",
        "\n",
        "    return leaders\n",
        "\n",
        "# Example usage\n",
        "arr = [23, 22, 24, 8, 9, 10]\n",
        "result = find_leaders(arr)\n",
        "\n",
        "print(f\"Output: {result}\")\n"
      ],
      "metadata": {
        "colab": {
          "base_uri": "https://localhost:8080/"
        },
        "id": "9Vjohlhox-lH",
        "outputId": "99486ff5-60eb-4b0b-9ff1-49dcb4dd2b73"
      },
      "execution_count": 6,
      "outputs": [
        {
          "output_type": "stream",
          "name": "stdout",
          "text": [
            "Output: [24, 10]\n"
          ]
        }
      ]
    },
    {
      "cell_type": "markdown",
      "source": [
        "**Question 9**"
      ],
      "metadata": {
        "id": "JkKWkcXUx_Eh"
      }
    },
    {
      "cell_type": "code",
      "source": [
        "def are_anagrams(str1, str2):\n",
        "    str1 = str1.replace(\" \", \"\").lower()\n",
        "    str2 = str2.replace(\" \", \"\").lower()\n",
        "\n",
        "    return sorted(str1) == sorted(str2)\n",
        "\n",
        "str1_1, str2_1 = 'coding', 'ingodc'\n",
        "str1_2, str2_2 = 'hello', 'hoeli'\n",
        "\n",
        "result_1 = are_anagrams(str1_1, str2_1)\n",
        "result_2 = are_anagrams(str1_2, str2_2)\n",
        "\n",
        "print(f\"Output 1: {'Yes' if result_1 else 'No'}\")\n",
        "print(f\"Output 2: {'Yes' if result_2 else 'No'}\")\n"
      ],
      "metadata": {
        "colab": {
          "base_uri": "https://localhost:8080/"
        },
        "id": "nalJgK_oyBCu",
        "outputId": "c720ee75-d57d-42b4-c787-c66aabfc1442"
      },
      "execution_count": 7,
      "outputs": [
        {
          "output_type": "stream",
          "name": "stdout",
          "text": [
            "Output 1: Yes\n",
            "Output 2: No\n"
          ]
        }
      ]
    },
    {
      "cell_type": "markdown",
      "source": [
        "**Question 10**"
      ],
      "metadata": {
        "id": "QUKYlKtlyBgc"
      }
    },
    {
      "cell_type": "code",
      "source": [
        "def is_palindrome(s):\n",
        "    # Remove non-alphanumeric characters and convert to lowercase\n",
        "    clean_s = ''.join(char.lower() for char in s if char.isalnum())\n",
        "\n",
        "    # Check if the cleaned string is equal to its reverse\n",
        "    return clean_s == clean_s[::-1]\n",
        "\n",
        "# Example usage\n",
        "input_string = \"I am :IronnorI Ma, i\"\n",
        "result = is_palindrome(input_string)\n",
        "\n",
        "if result:\n",
        "    print(\"YES\")\n",
        "else:\n",
        "    print(\"NO\")\n"
      ],
      "metadata": {
        "colab": {
          "base_uri": "https://localhost:8080/"
        },
        "id": "rV2ahBuNyDQ5",
        "outputId": "2be5e724-8eaf-41a5-c815-936cae908ee3"
      },
      "execution_count": 9,
      "outputs": [
        {
          "output_type": "stream",
          "name": "stdout",
          "text": [
            "YES\n"
          ]
        }
      ]
    }
  ]
}